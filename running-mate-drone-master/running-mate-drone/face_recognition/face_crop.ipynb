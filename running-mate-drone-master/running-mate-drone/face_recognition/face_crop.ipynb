{
 "cells": [
  {
   "cell_type": "code",
   "execution_count": 4,
   "id": "a8ecaa1d",
   "metadata": {},
   "outputs": [],
   "source": [
    "from mtcnn import MTCNN\n",
    "import cv2\n",
    "import matplotlib.pyplot as plt"
   ]
  },
  {
   "cell_type": "code",
   "execution_count": 7,
   "id": "55d0b341",
   "metadata": {},
   "outputs": [],
   "source": [
    "detector = MTCNN()\n",
    "#detector.detect_faces(img)"
   ]
  },
  {
   "cell_type": "code",
   "execution_count": 21,
   "id": "e57ac27c",
   "metadata": {},
   "outputs": [],
   "source": [
    "# draw an image with detected objects\n",
    "def draw_facebox(img_num, result_list):\n",
    "    # load the image\n",
    "    global dst\n",
    "    #filename = \"/home/piai/AI_project/image_aug/\"+filename1\n",
    "    root = \"/home/piai/AI_project/image_aug/\"\n",
    "    filename = root+img_num+\".jpg\"\n",
    "    #data = plt.imread(filename)\n",
    "    src = cv2.imread(filename)\n",
    "    # plot the image\n",
    "    #plt.imshow(data)\n",
    "    # get the context for drawing boxes\n",
    "    #ax = plt.gca()\n",
    "    # plot each box\n",
    "    for result in result_list:\n",
    "    # get coordinates\n",
    "        x, y, width, height = result['box']\n",
    "        dst=src.copy()\n",
    "        dst=src[y:y+height, x:x+width]\n",
    "        #print(1)\n",
    "        # create the shape\n",
    "        #rect = plt.Rectangle((x, y), width, height, fill=False, color='green')\n",
    "        # draw the box\n",
    "        #ax.add_patch(rect)\n",
    "        # show the plot\n",
    "        \n",
    "        #plt.ioff()\n",
    "    filename2=\"/home/piai/AI_project/face_crop/test/\"+img_num+\"_crop.jpg\"\n",
    "#     # os.chdir('/home/piai/AI_project/face_crop/')\n",
    "#     plt.savefig(filename2)\n",
    "#     plt.gca().clear()\n",
    "    \n",
    "    cv2.imwrite(filename2, dst)\n",
    "    "
   ]
  },
  {
   "cell_type": "code",
   "execution_count": null,
   "id": "ec232e31",
   "metadata": {},
   "outputs": [],
   "source": [
    "from PIL import Image"
   ]
  },
  {
   "cell_type": "code",
   "execution_count": 23,
   "id": "de651767",
   "metadata": {},
   "outputs": [
    {
     "name": "stdout",
     "output_type": "stream",
     "text": [
      "287\n",
      "918\n",
      "919\n",
      "938\n",
      "948\n",
      "961\n",
      "972\n",
      "1016\n",
      "1034\n",
      "1046\n",
      "1104\n",
      "1107\n",
      "1108\n",
      "1122\n",
      "1155\n",
      "1157\n",
      "1160\n",
      "1168\n",
      "2373\n",
      "2671\n"
     ]
    }
   ],
   "source": [
    "for i in range(287,2683):\n",
    "    try:\n",
    "        img_num=str(i)\n",
    "        #print(filename1)\n",
    "        root = \"/home/piai/AI_project/image_aug/\"\n",
    "        filename=root+img_num+\".jpg\"\n",
    "        pixels = plt.imread(filename)\n",
    "    #     print(\"Shape of image/array:\",pixels.shape)\n",
    "    #     imgplot = plt.imshow(pixels)\n",
    "    #     plt.show()\n",
    "        faces = detector.detect_faces(pixels)\n",
    "        #print(faces)\n",
    "\n",
    "        draw_facebox(img_num, faces)\n",
    "    #     filename2=\"/home/piai/AI_project/face_crop/\"+filename1\n",
    "    #     cv2.imwrite(filename2, draw_facebox(filename, faces))\n",
    "        cv2.destroyAllWindows()\n",
    "    except:\n",
    "        print(i)\n"
   ]
  },
  {
   "cell_type": "code",
   "execution_count": null,
   "id": "739d3e32",
   "metadata": {},
   "outputs": [],
   "source": []
  },
  {
   "cell_type": "code",
   "execution_count": null,
   "id": "82cf3ccd",
   "metadata": {},
   "outputs": [],
   "source": []
  }
 ],
 "metadata": {
  "kernelspec": {
   "display_name": "AIBD",
   "language": "python",
   "name": "aibd"
  },
  "language_info": {
   "codemirror_mode": {
    "name": "ipython",
    "version": 3
   },
   "file_extension": ".py",
   "mimetype": "text/x-python",
   "name": "python",
   "nbconvert_exporter": "python",
   "pygments_lexer": "ipython3",
   "version": "3.8.10"
  }
 },
 "nbformat": 4,
 "nbformat_minor": 5
}
